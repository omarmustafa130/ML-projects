{
  "nbformat": 4,
  "nbformat_minor": 0,
  "metadata": {
    "colab": {
      "provenance": []
    },
    "kernelspec": {
      "name": "python3",
      "display_name": "Python 3"
    },
    "language_info": {
      "name": "python"
    }
  },
  "cells": [
    {
      "cell_type": "markdown",
      "source": [
        "# Forward Propagation in python from scratch\n"
      ],
      "metadata": {
        "id": "-GSysnEdPI03"
      }
    },
    {
      "cell_type": "markdown",
      "source": [
        "## What is forward propagation?\n",
        "\n"
      ],
      "metadata": {
        "id": "2mPSf__oOsFe"
      }
    },
    {
      "cell_type": "markdown",
      "source": [
        "**Forward propagation** is the process of passing input data through a neural network to compute the output. It involves a series of calculations where the input is transformed layer by layer, using weights, biases, and activation functions, until the final output is produced. This is a fundamental step in both training and inference (prediction) in neural networks."
      ],
      "metadata": {
        "id": "cVLY1PZBOvyM"
      }
    },
    {
      "cell_type": "markdown",
      "source": [
        "## Steps in Forward Propagation\n"
      ],
      "metadata": {
        "id": "b3iMJ3I1POAj"
      }
    },
    {
      "cell_type": "markdown",
      "source": [
        "1- Input Layer:\n",
        "\n",
        "The input data (features) is passed to the input layer of the neural network.\n",
        "\n",
        "2- Hidden Layers:\n",
        "\n",
        "* For each hidden layer, the following computations are performed:\n",
        "\n",
        "  * Compute the weighted sum of inputs:\n",
        "    z=W⋅a_in + b\n",
        "\n",
        "  * Apply the activation function: a_out = g(z)\n",
        "\n",
        "* The output of one layer becomes the input to the next layer.\n",
        "\n",
        "3- Output Layer:\n",
        "\n",
        "* The final layer produces the network's output, which could be:\n",
        "\n",
        "  * A single value (for regression or binary classification).\n",
        "\n",
        "  * A vector of probabilities (for multi-class classification)."
      ],
      "metadata": {
        "id": "KjqhwVeOPT6h"
      }
    },
    {
      "cell_type": "code",
      "execution_count": null,
      "metadata": {
        "id": "9imo519v_fHS"
      },
      "outputs": [],
      "source": []
    }
  ]
}