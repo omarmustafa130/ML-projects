{
  "nbformat": 4,
  "nbformat_minor": 0,
  "metadata": {
    "colab": {
      "provenance": []
    },
    "kernelspec": {
      "name": "python3",
      "display_name": "Python 3"
    },
    "language_info": {
      "name": "python"
    }
  },
  "cells": [
    {
      "cell_type": "markdown",
      "source": [
        "# Forward Propagation in python from scratch\n"
      ],
      "metadata": {
        "id": "-GSysnEdPI03"
      }
    },
    {
      "cell_type": "markdown",
      "source": [
        "## What is forward propagation?\n",
        "\n"
      ],
      "metadata": {
        "id": "2mPSf__oOsFe"
      }
    },
    {
      "cell_type": "markdown",
      "source": [
        "**Forward propagation** is the process of passing input data through a neural network to compute the output. It involves a series of calculations where the input is transformed layer by layer, using weights, biases, and activation functions, until the final output is produced. This is a fundamental step in both training and inference (prediction) in neural networks."
      ],
      "metadata": {
        "id": "cVLY1PZBOvyM"
      }
    },
    {
      "cell_type": "markdown",
      "source": [
        "## Steps in Forward Propagation\n"
      ],
      "metadata": {
        "id": "b3iMJ3I1POAj"
      }
    },
    {
      "cell_type": "markdown",
      "source": [
        "1- Input Layer:\n",
        "\n",
        "The input data (features) is passed to the input layer of the neural network.\n",
        "\n",
        "2- Hidden Layers:\n",
        "\n",
        "* For each hidden layer, the following computations are performed:\n",
        "\n",
        "  * Compute the weighted sum of inputs:\n",
        "    z=W⋅a_in + b\n",
        "\n",
        "  * Apply the activation function: a_out = g(z)\n",
        "\n",
        "* The output of one layer becomes the input to the next layer.\n",
        "\n",
        "3- Output Layer:\n",
        "\n",
        "* The final layer produces the network's output, which could be:\n",
        "\n",
        "  * A single value (for regression or binary classification).\n",
        "\n",
        "  * A vector of probabilities (for multi-class classification)."
      ],
      "metadata": {
        "id": "KjqhwVeOPT6h"
      }
    },
    {
      "cell_type": "markdown",
      "source": [
        "## Example: Forward Propagation in a 3-Layer Neural Network\n"
      ],
      "metadata": {
        "id": "HLOC32uKFLmy"
      }
    },
    {
      "cell_type": "markdown",
      "source": [
        "Consider a neural network with:\n",
        "\n",
        "Input layer: 3 features.\n",
        "\n",
        "Hidden layer 1: 4 neurons.\n",
        "\n",
        "Hidden layer 2: 3 neurons.\n",
        "\n",
        "Output layer: 1 neuron (for binary classification)."
      ],
      "metadata": {
        "id": "FFuRojUEFTti"
      }
    },
    {
      "cell_type": "code",
      "execution_count": 24,
      "metadata": {
        "id": "9imo519v_fHS"
      },
      "outputs": [],
      "source": [
        "import numpy as np"
      ]
    },
    {
      "cell_type": "code",
      "source": [
        "def relu(z):\n",
        "  return np.maximum(0, z)"
      ],
      "metadata": {
        "id": "cE9iU4_cFetb"
      },
      "execution_count": 42,
      "outputs": []
    },
    {
      "cell_type": "code",
      "source": [
        "def sigmoid(z):\n",
        "  return 1/(1 + np.exp(-z))"
      ],
      "metadata": {
        "id": "uodAyw4tFnWB"
      },
      "execution_count": 43,
      "outputs": []
    },
    {
      "cell_type": "code",
      "source": [
        "def forward_propagation(X, parameters):\n",
        "  #unpack parameteres\n",
        "  W1, b1, W2, b2, W3, b3 = parameters\n",
        "  # Layer 1\n",
        "  print(\"Shape of X:\", X.shape)  # Debugging\n",
        "  print(\"Shape of W1:\", W1.shape)  # Debugging\n",
        "  #layer 1\n",
        "  z1 = np.matmul(X, W1) + b1\n",
        "  print(\"Shape of z1:\", z1.shape)  # Debugging\n",
        "\n",
        "  a1 = relu(z1)\n",
        "  print(\"Shape of W2:\", W2.shape)  # Debugging\n",
        "\n",
        "  #layer 2\n",
        "  z2 = np.matmul(a1, W2) + b2\n",
        "  print(\"Shape of z2:\", z2.shape)  # Debugging\n",
        "\n",
        "  a2 = relu(z2)\n",
        "  print(\"Shape of W3:\", W3.shape)  # Debugging\n",
        "\n",
        "  #output layer\n",
        "  z3 = np.matmul(a2, W3) + b3\n",
        "  print(\"Shape of z3:\", z3.shape)  # Debugging\n",
        "\n",
        "  a3 = sigmoid(z3)\n",
        "\n",
        "  return a3\n"
      ],
      "metadata": {
        "id": "ROkVU8MNFvkZ"
      },
      "execution_count": 44,
      "outputs": []
    },
    {
      "cell_type": "code",
      "source": [
        "#example inputs\n",
        "\n",
        "X = np.array([[0.5, 0.3, 0.2]])  # Input vector (1 sample, 3 features) - 2D array\n",
        "\n",
        "# Example parameters (weights and biases)\n",
        "W1 = np.random.randn(3,4) #layer 1 weights (3 input features, 4 neurons)\n",
        "W1\n"
      ],
      "metadata": {
        "colab": {
          "base_uri": "https://localhost:8080/"
        },
        "id": "oqNCQXuhGeHK",
        "outputId": "36a0be87-59b9-4ed9-b4ef-79d891c02ba7"
      },
      "execution_count": 45,
      "outputs": [
        {
          "output_type": "execute_result",
          "data": {
            "text/plain": [
              "array([[-0.48573371, -0.06632732,  0.4010451 ,  1.08728868],\n",
              "       [-0.2267695 , -0.46601414,  0.67143525, -0.49853084],\n",
              "       [ 0.11801104, -0.22318051,  1.3673566 ,  1.01946185]])"
            ]
          },
          "metadata": {},
          "execution_count": 45
        }
      ]
    },
    {
      "cell_type": "code",
      "source": [
        "b1 = np.random.randn(1, 4) #layer 1 biases\n",
        "b1"
      ],
      "metadata": {
        "colab": {
          "base_uri": "https://localhost:8080/"
        },
        "id": "oZd1CfkzGxRS",
        "outputId": "df8a249b-4477-4f40-f7e3-2d1a19440402"
      },
      "execution_count": 46,
      "outputs": [
        {
          "output_type": "execute_result",
          "data": {
            "text/plain": [
              "array([[ 0.54799593,  0.00569532, -0.98249883, -1.5419598 ]])"
            ]
          },
          "metadata": {},
          "execution_count": 46
        }
      ]
    },
    {
      "cell_type": "code",
      "source": [
        "W2 = np.random.randn(4, 3)  # Layer 2 weights (4 input features, 3 neurons)\n",
        "b2 = np.random.randn(1, 3)     # Layer 2 biases\n",
        "W3 = np.random.randn(3, 1)  # Output layer weights (3 input features, 1 neuron)\n",
        "b3 = np.random.randn(1, 1)     # Output layer bias\n"
      ],
      "metadata": {
        "id": "adZ6Ha4vHE1R"
      },
      "execution_count": 47,
      "outputs": []
    },
    {
      "cell_type": "code",
      "source": [
        "parameters = (W1, b1, W2, b2, W3, b3)\n",
        "\n",
        "output = forward_propagation(X, parameters)\n",
        "print('Output of forward propagation: ', output)"
      ],
      "metadata": {
        "colab": {
          "base_uri": "https://localhost:8080/"
        },
        "id": "f6JYm82IHKMx",
        "outputId": "923f0395-18b2-4da3-c79c-8df8c425c1d2"
      },
      "execution_count": 49,
      "outputs": [
        {
          "output_type": "stream",
          "name": "stdout",
          "text": [
            "Shape of X: (1, 3)\n",
            "Shape of W1: (3, 4)\n",
            "Shape of z1: (1, 4)\n",
            "Shape of W2: (4, 3)\n",
            "Shape of z2: (1, 3)\n",
            "Shape of W3: (3, 1)\n",
            "Shape of z3: (1, 1)\n",
            "Output of forward propagation:  [[0.48702067]]\n"
          ]
        }
      ]
    },
    {
      "cell_type": "code",
      "source": [],
      "metadata": {
        "id": "zk59ovn6Ix3Z"
      },
      "execution_count": null,
      "outputs": []
    }
  ]
}